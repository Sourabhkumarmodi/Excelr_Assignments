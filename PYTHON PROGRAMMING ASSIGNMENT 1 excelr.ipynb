{
 "cells": [
  {
   "cell_type": "markdown",
   "id": "f7a45a1d",
   "metadata": {},
   "source": [
    "## Name : Sourabh Kumar                                                                      \n",
    "   "
   ]
  },
  {
   "cell_type": "markdown",
   "id": "4c28d374",
   "metadata": {},
   "source": [
    "### Batch Start : 19-Aug-2024\n"
   ]
  },
  {
   "cell_type": "markdown",
   "id": "af314a18",
   "metadata": {},
   "source": [
    "#### Course : Data Science "
   ]
  },
  {
   "cell_type": "raw",
   "id": "f11edc09",
   "metadata": {},
   "source": [
    "Exercise 1: Prime Numbers\n",
    "Write a Python program that checks whether a given number is prime or not.\n",
    "A prime number is a natural number greater than 1 that has no positive divisors other than 1 and itself."
   ]
  },
  {
   "cell_type": "code",
   "execution_count": 1,
   "id": "ec1ccd48",
   "metadata": {},
   "outputs": [
    {
     "name": "stdout",
     "output_type": "stream",
     "text": [
      "enter a number36\n",
      "not prime number\n"
     ]
    }
   ],
   "source": [
    "num= int(input(\"enter a number\"))\n",
    "if num==1:\n",
    "    print(\"not a prime number \")\n",
    "if num>1:\n",
    "    for i in range(2,num):\n",
    "        if num%i==0:\n",
    "            print(\"not prime number\")\n",
    "            break\n",
    "    else:\n",
    "        print(\"prime number\")"
   ]
  },
  {
   "cell_type": "raw",
   "id": "cfe31f2c",
   "metadata": {},
   "source": [
    "Exercise 2: Product of Random Numbers\n",
    "Develop a Python program that generates two random numbers and asks the user to enter the product of these numbers.\n",
    "The program should then check if the user's answer is correct and display an appropriate message."
   ]
  },
  {
   "cell_type": "code",
   "execution_count": 2,
   "id": "c3217df5",
   "metadata": {},
   "outputs": [
    {
     "name": "stdout",
     "output_type": "stream",
     "text": [
      "What is the product of 4 and 5? 20\n",
      "Correct! Well done.\n"
     ]
    }
   ],
   "source": [
    "import random\n",
    "\n",
    "# Generate two random numbers between 1 and 10\n",
    "number1 = random.randint(1, 10)\n",
    "number2 = random.randint(1, 10)\n",
    "actual_product = number1 * number2\n",
    "\n",
    "# Ask the user to enter the product of the two numbers\n",
    "user_answer = int(input(f\"What is the product of {number1} and {number2}? \"))\n",
    "if user_answer == actual_product:\n",
    "    print(\"Correct! Well done.\")\n",
    "else:\n",
    "    print(f\"Incorrect. The correct answer is {actual_product}.\")"
   ]
  },
  {
   "cell_type": "raw",
   "id": "9ec1c902",
   "metadata": {},
   "source": [
    "Exercise 3: Squares of Even/Odd Numbers\n",
    "Create a Python script that prints the squares of all even or odd numbers within the range of 100 to 200.\n",
    "Choose either even or odd numbers and document your choice in the code.\n"
   ]
  },
  {
   "cell_type": "code",
   "execution_count": 3,
   "id": "e8559688",
   "metadata": {},
   "outputs": [
    {
     "name": "stdout",
     "output_type": "stream",
     "text": [
      "The square of 100 is : 10000\n",
      "The square of 102 is : 10404\n",
      "The square of 104 is : 10816\n",
      "The square of 106 is : 11236\n",
      "The square of 108 is : 11664\n",
      "The square of 110 is : 12100\n",
      "The square of 112 is : 12544\n",
      "The square of 114 is : 12996\n",
      "The square of 116 is : 13456\n",
      "The square of 118 is : 13924\n",
      "The square of 120 is : 14400\n",
      "The square of 122 is : 14884\n",
      "The square of 124 is : 15376\n",
      "The square of 126 is : 15876\n",
      "The square of 128 is : 16384\n",
      "The square of 130 is : 16900\n",
      "The square of 132 is : 17424\n",
      "The square of 134 is : 17956\n",
      "The square of 136 is : 18496\n",
      "The square of 138 is : 19044\n",
      "The square of 140 is : 19600\n",
      "The square of 142 is : 20164\n",
      "The square of 144 is : 20736\n",
      "The square of 146 is : 21316\n",
      "The square of 148 is : 21904\n",
      "The square of 150 is : 22500\n",
      "The square of 152 is : 23104\n",
      "The square of 154 is : 23716\n",
      "The square of 156 is : 24336\n",
      "The square of 158 is : 24964\n",
      "The square of 160 is : 25600\n",
      "The square of 162 is : 26244\n",
      "The square of 164 is : 26896\n",
      "The square of 166 is : 27556\n",
      "The square of 168 is : 28224\n",
      "The square of 170 is : 28900\n",
      "The square of 172 is : 29584\n",
      "The square of 174 is : 30276\n",
      "The square of 176 is : 30976\n",
      "The square of 178 is : 31684\n",
      "The square of 180 is : 32400\n",
      "The square of 182 is : 33124\n",
      "The square of 184 is : 33856\n",
      "The square of 186 is : 34596\n",
      "The square of 188 is : 35344\n",
      "The square of 190 is : 36100\n",
      "The square of 192 is : 36864\n",
      "The square of 194 is : 37636\n",
      "The square of 196 is : 38416\n",
      "The square of 198 is : 39204\n"
     ]
    }
   ],
   "source": [
    "for i in range(100,200):\n",
    "    if i%2==0:\n",
    "        print(f\"The square of {i} is : {i ** 2}\")"
   ]
  },
  {
   "cell_type": "raw",
   "id": "7a819306",
   "metadata": {},
   "source": [
    "Exercise 4: Word counter\n",
    "write a program to count the number of words in a given text.\n",
    "example:\n",
    "input_text = \"This is a sample text. This text will be used to demonstrate the word counter.\"\n",
    "Expected output:\n",
    "'This': 2 \n",
    "'is': 1\n",
    "'a': 1\n"
   ]
  },
  {
   "cell_type": "code",
   "execution_count": 4,
   "id": "93a78271",
   "metadata": {},
   "outputs": [
    {
     "name": "stdout",
     "output_type": "stream",
     "text": [
      "this: 2\n",
      "is: 1\n",
      "a: 1\n",
      "sample: 1\n",
      "text: 2\n",
      "will: 1\n",
      "be: 1\n",
      "used: 1\n",
      "to: 1\n",
      "demonstrate: 1\n",
      "the: 1\n",
      "word: 1\n",
      "counter: 1\n"
     ]
    }
   ],
   "source": [
    "input_text = \"This is a sample text. This text will be used to demonstrate the word counter.\"\n",
    "\n",
    "words = input_text.lower().split()\n",
    "\n",
    "word_counts = {}\n",
    "for word in words:\n",
    "   \n",
    "    word = word.strip('.,!?\"\\'')\n",
    "    \n",
    "    if word in word_counts:\n",
    "        word_counts[word] += 1\n",
    "    else:\n",
    "        word_counts[word] = 1\n",
    "\n",
    "# Print the word counts\n",
    "for word, count in word_counts.items():\n",
    "    print(f'{word}: {count}')\n"
   ]
  },
  {
   "cell_type": "raw",
   "id": "7de27b02",
   "metadata": {},
   "source": [
    "Exercise 5: Check for Palindrome\n",
    "Write a Python function called is_palindrome that takes a string as input and returns True if the string is a palindrome,\n",
    "and False otherwise. A palindrome is a word, phrase, number,\n",
    "or other sequence of characters that reads the same forward and backward, ignoring spaces, punctuation, and capitalization.\n",
    "Example:\n",
    "Input: \"racecar\"\n",
    "Expected Output: True\n"
   ]
  },
  {
   "cell_type": "code",
   "execution_count": 5,
   "id": "c27eec35",
   "metadata": {},
   "outputs": [],
   "source": [
    "def is_palindrom(string):\n",
    "    if string==string[::-1]:\n",
    "        return True\n",
    "    else:\n",
    "        return False"
   ]
  },
  {
   "cell_type": "code",
   "execution_count": 6,
   "id": "bf222226",
   "metadata": {},
   "outputs": [
    {
     "data": {
      "text/plain": [
       "True"
      ]
     },
     "execution_count": 6,
     "metadata": {},
     "output_type": "execute_result"
    }
   ],
   "source": [
    "is_palindrom(\"racar\")"
   ]
  },
  {
   "cell_type": "code",
   "execution_count": null,
   "id": "197f857b",
   "metadata": {},
   "outputs": [],
   "source": []
  }
 ],
 "metadata": {
  "kernelspec": {
   "display_name": "Python 3 (ipykernel)",
   "language": "python",
   "name": "python3"
  },
  "language_info": {
   "codemirror_mode": {
    "name": "ipython",
    "version": 3
   },
   "file_extension": ".py",
   "mimetype": "text/x-python",
   "name": "python",
   "nbconvert_exporter": "python",
   "pygments_lexer": "ipython3",
   "version": "3.9.13"
  }
 },
 "nbformat": 4,
 "nbformat_minor": 5
}
